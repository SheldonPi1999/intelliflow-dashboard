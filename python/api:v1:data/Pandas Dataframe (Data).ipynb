{
 "cells": [
  {
   "cell_type": "code",
   "execution_count": 46,
   "id": "51851291",
   "metadata": {},
   "outputs": [],
   "source": [
    "# Run this line if you don't have the 'requests' package installed.\n",
    "# !pip3 install requests"
   ]
  },
  {
   "cell_type": "code",
   "execution_count": 45,
   "id": "305e6c2b",
   "metadata": {},
   "outputs": [],
   "source": [
    "# Run this line if you don't have the 'pandas' package installed.\n",
    "# !pip3 install pandas"
   ]
  },
  {
   "cell_type": "code",
   "execution_count": 3,
   "id": "39071a74",
   "metadata": {},
   "outputs": [],
   "source": [
    "import requests\n",
    "import pandas as pd"
   ]
  },
  {
   "cell_type": "code",
   "execution_count": 13,
   "id": "0ebdada2",
   "metadata": {},
   "outputs": [],
   "source": [
    "# Fill in your API server ip.\n",
    "serverIp = \"192.168.0.28\""
   ]
  },
  {
   "cell_type": "code",
   "execution_count": 14,
   "id": "1cb96dc7",
   "metadata": {},
   "outputs": [],
   "source": [
    "# Fill in your API server port.\n",
    "serverPort = \"3030\""
   ]
  },
  {
   "cell_type": "code",
   "execution_count": 16,
   "id": "85c66377",
   "metadata": {},
   "outputs": [],
   "source": [
    "url = \"http://\"+serverIp+\":\"+serverPort+\"/api/v1/data\""
   ]
  },
  {
   "cell_type": "code",
   "execution_count": 116,
   "id": "5dacc76d",
   "metadata": {},
   "outputs": [],
   "source": [
    "r = requests.get(url)\n",
    "json = r.json()\n",
    "json"
   ]
  },
  {
   "cell_type": "code",
   "execution_count": 42,
   "id": "74adf09d",
   "metadata": {},
   "outputs": [],
   "source": [
    "# sensorData is a list of dicts.\n",
    "sensorData = json['data']"
   ]
  },
  {
   "cell_type": "code",
   "execution_count": 119,
   "id": "25f7a75c",
   "metadata": {
    "scrolled": true
   },
   "outputs": [],
   "source": [
    "df = pd.DataFrame(sensorData)\n",
    "\n",
    "# Show all columns\n",
    "# df\n",
    "\n",
    "# Show important columns\n",
    "# df[[\"hubId\", \"sensorId\", \"value\", \"extraId\", \"createdAt\"]]"
   ]
  },
  {
   "cell_type": "code",
   "execution_count": 108,
   "id": "9f023a52",
   "metadata": {},
   "outputs": [],
   "source": [
    "# Fill in which sensor and hub you want a dataframe of\n",
    "sensorId = \"pressureSensor0\"\n",
    "hubId = \"TEST_DEMO2\"\n",
    "extraId = \"\";"
   ]
  },
  {
   "cell_type": "code",
   "execution_count": 109,
   "id": "b11e09be",
   "metadata": {},
   "outputs": [],
   "source": [
    "sensor_df = df[(df[\"sensorId\"] == sensorId) & (df[\"hubId\"] == hubId) & (df[\"extraId\"] == extraId)]\n"
   ]
  },
  {
   "cell_type": "code",
   "execution_count": 120,
   "id": "43fd6ff7",
   "metadata": {},
   "outputs": [],
   "source": [
    "# Show all columns\n",
    "# sensor_df\n",
    "\n",
    "# Show important columns\n",
    "# sensor_df[[\"hubId\", \"sensorId\", \"value\", \"extraId\", \"createdAt\"]]"
   ]
  },
  {
   "cell_type": "code",
   "execution_count": 112,
   "id": "5e8bbb05",
   "metadata": {},
   "outputs": [],
   "source": [
    "# End of file"
   ]
  }
 ],
 "metadata": {
  "kernelspec": {
   "display_name": "Python 3",
   "language": "python",
   "name": "python3"
  },
  "language_info": {
   "codemirror_mode": {
    "name": "ipython",
    "version": 3
   },
   "file_extension": ".py",
   "mimetype": "text/x-python",
   "name": "python",
   "nbconvert_exporter": "python",
   "pygments_lexer": "ipython3",
   "version": "3.9.5"
  }
 },
 "nbformat": 4,
 "nbformat_minor": 5
}
