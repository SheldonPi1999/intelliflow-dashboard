{
 "cells": [
  {
   "cell_type": "code",
   "execution_count": 112,
   "id": "51851291",
   "metadata": {},
   "outputs": [],
   "source": [
    "# In this notebook we will read the data from 2 pressuresensors that are connected to the same hub. \n",
    "# Next we will process this data and calculate the speed of the liquid.\n",
    "# Lastly we will create a virtual (speed) sensor and push virtual data to the database."
   ]
  },
  {
   "cell_type": "code",
   "execution_count": 113,
   "id": "547a7cc7",
   "metadata": {},
   "outputs": [],
   "source": [
    "# Run this line if you don't have the 'requests' package installed.\n",
    "# !pip3 install requests"
   ]
  },
  {
   "cell_type": "code",
   "execution_count": 114,
   "id": "305e6c2b",
   "metadata": {},
   "outputs": [],
   "source": [
    "# Run this line if you don't have the 'pandas' package installed.\n",
    "# !pip3 install pandas"
   ]
  },
  {
   "cell_type": "code",
   "execution_count": 115,
   "id": "1d817abe",
   "metadata": {},
   "outputs": [],
   "source": [
    "# Run this line if you don't have the 'matplotlib' package installed.\n",
    "# !pip3 install matplotlib"
   ]
  },
  {
   "cell_type": "code",
   "execution_count": 182,
   "id": "39071a74",
   "metadata": {},
   "outputs": [],
   "source": [
    "import math \n",
    "import requests\n",
    "import pandas as pd"
   ]
  },
  {
   "cell_type": "code",
   "execution_count": 117,
   "id": "0ebdada2",
   "metadata": {},
   "outputs": [],
   "source": [
    "# Fill in your API server ip.\n",
    "serverIp = \"192.168.0.28\""
   ]
  },
  {
   "cell_type": "code",
   "execution_count": 118,
   "id": "1cb96dc7",
   "metadata": {},
   "outputs": [],
   "source": [
    "# Fill in your API server port.\n",
    "serverPort = \"3030\""
   ]
  },
  {
   "cell_type": "code",
   "execution_count": 119,
   "id": "85c66377",
   "metadata": {},
   "outputs": [],
   "source": [
    "url = \"http://\"+serverIp+\":\"+serverPort+\"/api/v1/data\""
   ]
  },
  {
   "cell_type": "code",
   "execution_count": 120,
   "id": "47ea357f",
   "metadata": {},
   "outputs": [],
   "source": [
    "# Choose the hub that includes the pressuresensors\n",
    "hubId = \"TEST_SPEED_HUB\"\n",
    "\n",
    "getSpecificData = {\n",
    "    \"hubId\": hubId,\n",
    "}"
   ]
  },
  {
   "cell_type": "code",
   "execution_count": 121,
   "id": "5dacc76d",
   "metadata": {},
   "outputs": [],
   "source": [
    "r = requests.get(url, getSpecificData)\n",
    "json = r.json()\n",
    "# json"
   ]
  },
  {
   "cell_type": "code",
   "execution_count": 122,
   "id": "74adf09d",
   "metadata": {},
   "outputs": [],
   "source": [
    "# sensorData is a list of dicts.\n",
    "sensorData = json['data']\n",
    "# sensorData"
   ]
  },
  {
   "cell_type": "code",
   "execution_count": 123,
   "id": "25f7a75c",
   "metadata": {
    "scrolled": true
   },
   "outputs": [
    {
     "data": {
      "text/html": [
       "<div>\n",
       "<style scoped>\n",
       "    .dataframe tbody tr th:only-of-type {\n",
       "        vertical-align: middle;\n",
       "    }\n",
       "\n",
       "    .dataframe tbody tr th {\n",
       "        vertical-align: top;\n",
       "    }\n",
       "\n",
       "    .dataframe thead th {\n",
       "        text-align: right;\n",
       "    }\n",
       "</style>\n",
       "<table border=\"1\" class=\"dataframe\">\n",
       "  <thead>\n",
       "    <tr style=\"text-align: right;\">\n",
       "      <th></th>\n",
       "      <th>hubId</th>\n",
       "      <th>sensorId</th>\n",
       "      <th>value</th>\n",
       "      <th>createdAt</th>\n",
       "    </tr>\n",
       "  </thead>\n",
       "  <tbody>\n",
       "    <tr>\n",
       "      <th>0</th>\n",
       "      <td>TEST_SPEED_HUB</td>\n",
       "      <td>PS0</td>\n",
       "      <td>1500</td>\n",
       "      <td>2021-06-02T23:41:49.844Z</td>\n",
       "    </tr>\n",
       "    <tr>\n",
       "      <th>1</th>\n",
       "      <td>TEST_SPEED_HUB</td>\n",
       "      <td>PS0</td>\n",
       "      <td>1500</td>\n",
       "      <td>2021-06-02T23:41:50.427Z</td>\n",
       "    </tr>\n",
       "    <tr>\n",
       "      <th>2</th>\n",
       "      <td>TEST_SPEED_HUB</td>\n",
       "      <td>PS0</td>\n",
       "      <td>1500</td>\n",
       "      <td>2021-06-02T23:41:51.833Z</td>\n",
       "    </tr>\n",
       "    <tr>\n",
       "      <th>3</th>\n",
       "      <td>TEST_SPEED_HUB</td>\n",
       "      <td>PS0</td>\n",
       "      <td>1500</td>\n",
       "      <td>2021-06-02T23:41:52.464Z</td>\n",
       "    </tr>\n",
       "    <tr>\n",
       "      <th>4</th>\n",
       "      <td>TEST_SPEED_HUB</td>\n",
       "      <td>PS1</td>\n",
       "      <td>2000</td>\n",
       "      <td>2021-06-02T23:42:05.167Z</td>\n",
       "    </tr>\n",
       "    <tr>\n",
       "      <th>5</th>\n",
       "      <td>TEST_SPEED_HUB</td>\n",
       "      <td>PS1</td>\n",
       "      <td>2000</td>\n",
       "      <td>2021-06-02T23:42:05.710Z</td>\n",
       "    </tr>\n",
       "    <tr>\n",
       "      <th>6</th>\n",
       "      <td>TEST_SPEED_HUB</td>\n",
       "      <td>PS1</td>\n",
       "      <td>2000</td>\n",
       "      <td>2021-06-02T23:42:06.139Z</td>\n",
       "    </tr>\n",
       "    <tr>\n",
       "      <th>7</th>\n",
       "      <td>TEST_SPEED_HUB</td>\n",
       "      <td>PS1</td>\n",
       "      <td>2000</td>\n",
       "      <td>2021-06-02T23:42:06.488Z</td>\n",
       "    </tr>\n",
       "  </tbody>\n",
       "</table>\n",
       "</div>"
      ],
      "text/plain": [
       "            hubId sensorId  value                 createdAt\n",
       "0  TEST_SPEED_HUB      PS0   1500  2021-06-02T23:41:49.844Z\n",
       "1  TEST_SPEED_HUB      PS0   1500  2021-06-02T23:41:50.427Z\n",
       "2  TEST_SPEED_HUB      PS0   1500  2021-06-02T23:41:51.833Z\n",
       "3  TEST_SPEED_HUB      PS0   1500  2021-06-02T23:41:52.464Z\n",
       "4  TEST_SPEED_HUB      PS1   2000  2021-06-02T23:42:05.167Z\n",
       "5  TEST_SPEED_HUB      PS1   2000  2021-06-02T23:42:05.710Z\n",
       "6  TEST_SPEED_HUB      PS1   2000  2021-06-02T23:42:06.139Z\n",
       "7  TEST_SPEED_HUB      PS1   2000  2021-06-02T23:42:06.488Z"
      ]
     },
     "execution_count": 123,
     "metadata": {},
     "output_type": "execute_result"
    }
   ],
   "source": [
    "df = pd.DataFrame(sensorData)\n",
    "\n",
    "# Show all columns\n",
    "#df\n",
    "\n",
    "# Show important columns\n",
    "df[[\"hubId\", \"sensorId\", \"value\", \"createdAt\"]]"
   ]
  },
  {
   "cell_type": "code",
   "execution_count": 124,
   "id": "9f023a52",
   "metadata": {},
   "outputs": [],
   "source": [
    "# Fill in which pressureSensor and hub you want a dataframe of\n",
    "pressureSensorId_1 = \"PS0\"\n",
    "pressureSensorId_2 = \"PS1\""
   ]
  },
  {
   "cell_type": "code",
   "execution_count": 165,
   "id": "b11e09be",
   "metadata": {},
   "outputs": [],
   "source": [
    "pressureSensor_1_df = df[df[\"sensorId\"] == pressureSensorId_1]\n",
    "pressureSensor_2_df = df[df[\"sensorId\"] == pressureSensorId_2]\n"
   ]
  },
  {
   "cell_type": "code",
   "execution_count": 166,
   "id": "43fd6ff7",
   "metadata": {},
   "outputs": [
    {
     "data": {
      "text/html": [
       "<div>\n",
       "<style scoped>\n",
       "    .dataframe tbody tr th:only-of-type {\n",
       "        vertical-align: middle;\n",
       "    }\n",
       "\n",
       "    .dataframe tbody tr th {\n",
       "        vertical-align: top;\n",
       "    }\n",
       "\n",
       "    .dataframe thead th {\n",
       "        text-align: right;\n",
       "    }\n",
       "</style>\n",
       "<table border=\"1\" class=\"dataframe\">\n",
       "  <thead>\n",
       "    <tr style=\"text-align: right;\">\n",
       "      <th></th>\n",
       "      <th>_id</th>\n",
       "      <th>hubId</th>\n",
       "      <th>sensorId</th>\n",
       "      <th>value</th>\n",
       "      <th>createdAt</th>\n",
       "      <th>updatedAt</th>\n",
       "      <th>__v</th>\n",
       "    </tr>\n",
       "  </thead>\n",
       "  <tbody>\n",
       "    <tr>\n",
       "      <th>0</th>\n",
       "      <td>60b8173d2ac5190013713e06</td>\n",
       "      <td>TEST_SPEED_HUB</td>\n",
       "      <td>PS0</td>\n",
       "      <td>1500</td>\n",
       "      <td>2021-06-02T23:41:49.844Z</td>\n",
       "      <td>2021-06-02T23:41:49.844Z</td>\n",
       "      <td>0</td>\n",
       "    </tr>\n",
       "    <tr>\n",
       "      <th>1</th>\n",
       "      <td>60b8173e2ac5190013713e07</td>\n",
       "      <td>TEST_SPEED_HUB</td>\n",
       "      <td>PS0</td>\n",
       "      <td>1500</td>\n",
       "      <td>2021-06-02T23:41:50.427Z</td>\n",
       "      <td>2021-06-02T23:41:50.427Z</td>\n",
       "      <td>0</td>\n",
       "    </tr>\n",
       "    <tr>\n",
       "      <th>2</th>\n",
       "      <td>60b8173f2ac5190013713e08</td>\n",
       "      <td>TEST_SPEED_HUB</td>\n",
       "      <td>PS0</td>\n",
       "      <td>1500</td>\n",
       "      <td>2021-06-02T23:41:51.833Z</td>\n",
       "      <td>2021-06-02T23:41:51.833Z</td>\n",
       "      <td>0</td>\n",
       "    </tr>\n",
       "    <tr>\n",
       "      <th>3</th>\n",
       "      <td>60b817402ac5190013713e09</td>\n",
       "      <td>TEST_SPEED_HUB</td>\n",
       "      <td>PS0</td>\n",
       "      <td>1500</td>\n",
       "      <td>2021-06-02T23:41:52.464Z</td>\n",
       "      <td>2021-06-02T23:41:52.464Z</td>\n",
       "      <td>0</td>\n",
       "    </tr>\n",
       "  </tbody>\n",
       "</table>\n",
       "</div>"
      ],
      "text/plain": [
       "                        _id           hubId sensorId  value  \\\n",
       "0  60b8173d2ac5190013713e06  TEST_SPEED_HUB      PS0   1500   \n",
       "1  60b8173e2ac5190013713e07  TEST_SPEED_HUB      PS0   1500   \n",
       "2  60b8173f2ac5190013713e08  TEST_SPEED_HUB      PS0   1500   \n",
       "3  60b817402ac5190013713e09  TEST_SPEED_HUB      PS0   1500   \n",
       "\n",
       "                  createdAt                 updatedAt  __v  \n",
       "0  2021-06-02T23:41:49.844Z  2021-06-02T23:41:49.844Z    0  \n",
       "1  2021-06-02T23:41:50.427Z  2021-06-02T23:41:50.427Z    0  \n",
       "2  2021-06-02T23:41:51.833Z  2021-06-02T23:41:51.833Z    0  \n",
       "3  2021-06-02T23:41:52.464Z  2021-06-02T23:41:52.464Z    0  "
      ]
     },
     "execution_count": 166,
     "metadata": {},
     "output_type": "execute_result"
    }
   ],
   "source": [
    "# Show sensor 1 df\n",
    "pressureSensor_1_df"
   ]
  },
  {
   "cell_type": "code",
   "execution_count": 167,
   "id": "b9b51273",
   "metadata": {},
   "outputs": [
    {
     "data": {
      "text/html": [
       "<div>\n",
       "<style scoped>\n",
       "    .dataframe tbody tr th:only-of-type {\n",
       "        vertical-align: middle;\n",
       "    }\n",
       "\n",
       "    .dataframe tbody tr th {\n",
       "        vertical-align: top;\n",
       "    }\n",
       "\n",
       "    .dataframe thead th {\n",
       "        text-align: right;\n",
       "    }\n",
       "</style>\n",
       "<table border=\"1\" class=\"dataframe\">\n",
       "  <thead>\n",
       "    <tr style=\"text-align: right;\">\n",
       "      <th></th>\n",
       "      <th>_id</th>\n",
       "      <th>hubId</th>\n",
       "      <th>sensorId</th>\n",
       "      <th>value</th>\n",
       "      <th>createdAt</th>\n",
       "      <th>updatedAt</th>\n",
       "      <th>__v</th>\n",
       "    </tr>\n",
       "  </thead>\n",
       "  <tbody>\n",
       "    <tr>\n",
       "      <th>4</th>\n",
       "      <td>60b8174d2ac5190013713e0a</td>\n",
       "      <td>TEST_SPEED_HUB</td>\n",
       "      <td>PS1</td>\n",
       "      <td>2000</td>\n",
       "      <td>2021-06-02T23:42:05.167Z</td>\n",
       "      <td>2021-06-02T23:42:05.167Z</td>\n",
       "      <td>0</td>\n",
       "    </tr>\n",
       "    <tr>\n",
       "      <th>5</th>\n",
       "      <td>60b8174d2ac5190013713e0b</td>\n",
       "      <td>TEST_SPEED_HUB</td>\n",
       "      <td>PS1</td>\n",
       "      <td>2000</td>\n",
       "      <td>2021-06-02T23:42:05.710Z</td>\n",
       "      <td>2021-06-02T23:42:05.710Z</td>\n",
       "      <td>0</td>\n",
       "    </tr>\n",
       "    <tr>\n",
       "      <th>6</th>\n",
       "      <td>60b8174e2ac5190013713e0c</td>\n",
       "      <td>TEST_SPEED_HUB</td>\n",
       "      <td>PS1</td>\n",
       "      <td>2000</td>\n",
       "      <td>2021-06-02T23:42:06.139Z</td>\n",
       "      <td>2021-06-02T23:42:06.139Z</td>\n",
       "      <td>0</td>\n",
       "    </tr>\n",
       "    <tr>\n",
       "      <th>7</th>\n",
       "      <td>60b8174e2ac5190013713e0d</td>\n",
       "      <td>TEST_SPEED_HUB</td>\n",
       "      <td>PS1</td>\n",
       "      <td>2000</td>\n",
       "      <td>2021-06-02T23:42:06.488Z</td>\n",
       "      <td>2021-06-02T23:42:06.488Z</td>\n",
       "      <td>0</td>\n",
       "    </tr>\n",
       "  </tbody>\n",
       "</table>\n",
       "</div>"
      ],
      "text/plain": [
       "                        _id           hubId sensorId  value  \\\n",
       "4  60b8174d2ac5190013713e0a  TEST_SPEED_HUB      PS1   2000   \n",
       "5  60b8174d2ac5190013713e0b  TEST_SPEED_HUB      PS1   2000   \n",
       "6  60b8174e2ac5190013713e0c  TEST_SPEED_HUB      PS1   2000   \n",
       "7  60b8174e2ac5190013713e0d  TEST_SPEED_HUB      PS1   2000   \n",
       "\n",
       "                  createdAt                 updatedAt  __v  \n",
       "4  2021-06-02T23:42:05.167Z  2021-06-02T23:42:05.167Z    0  \n",
       "5  2021-06-02T23:42:05.710Z  2021-06-02T23:42:05.710Z    0  \n",
       "6  2021-06-02T23:42:06.139Z  2021-06-02T23:42:06.139Z    0  \n",
       "7  2021-06-02T23:42:06.488Z  2021-06-02T23:42:06.488Z    0  "
      ]
     },
     "execution_count": 167,
     "metadata": {},
     "output_type": "execute_result"
    }
   ],
   "source": [
    "# Show sensor 2 df\n",
    "pressureSensor_2_df"
   ]
  },
  {
   "cell_type": "code",
   "execution_count": 243,
   "id": "3095f1ab",
   "metadata": {},
   "outputs": [],
   "source": [
    "virtualSpeedSensorData = {'hubId': hubId, 'sensorId': \"VSS\", 'value': []} "
   ]
  },
  {
   "cell_type": "code",
   "execution_count": 244,
   "id": "a40d9d41",
   "metadata": {},
   "outputs": [],
   "source": [
    "total_rows_sensor_1 = len(pressureSensor_1_df.index)\n",
    "total_rows_sensor_2 = len(pressureSensor_2_df.index)"
   ]
  },
  {
   "cell_type": "code",
   "execution_count": 257,
   "id": "ddd15c79",
   "metadata": {},
   "outputs": [],
   "source": [
    "for x in range(total_rows_sensor_1):\n",
    "    temp_value_1 = pressureSensor_1_df['value'][x]\n",
    "    temp_value_2 = pressureSensor_2_df['value'][x+len(pressureSensor_1_df.index)]\n",
    "    \n",
    "    rhoFluid = 1000 # kg/m3\n",
    "    area_point_1 = math.pi * ((9.6 / 1000) ** 2)\n",
    "    area_point_2 = math.pi * ((19.2 / 1000) ** 2)\n",
    "    \n",
    "    # deltaP = P1 - P2\n",
    "    deltaPressure = temp_value_1 - temp_value_2\n",
    "    \n",
    "    numerator = ((2 * deltaPressure) / rhoFluid)\n",
    "    denominator = (1 - ((area_point_1 ** 2)/(area_point_2 ** 2)))\n",
    "    \n",
    "    speedPoint_1 = math.sqrt(abs(numerator)/denominator)\n",
    "    \n",
    "    virtualSpeedSensorData['value'].append(speedPoint_1)"
   ]
  },
  {
   "cell_type": "code",
   "execution_count": 246,
   "id": "aef75200",
   "metadata": {},
   "outputs": [
    {
     "data": {
      "text/plain": [
       "{'hubId': 'TEST_SPEED_HUB',\n",
       " 'sensorId': 'VSS',\n",
       " 'value': [1.0327955589886444,\n",
       "  1.0327955589886444,\n",
       "  1.0327955589886444,\n",
       "  1.0327955589886444]}"
      ]
     },
     "execution_count": 246,
     "metadata": {},
     "output_type": "execute_result"
    }
   ],
   "source": [
    "virtualSpeedSensorData"
   ]
  },
  {
   "cell_type": "code",
   "execution_count": 247,
   "id": "de8210ac",
   "metadata": {
    "scrolled": true
   },
   "outputs": [
    {
     "data": {
      "text/html": [
       "<div>\n",
       "<style scoped>\n",
       "    .dataframe tbody tr th:only-of-type {\n",
       "        vertical-align: middle;\n",
       "    }\n",
       "\n",
       "    .dataframe tbody tr th {\n",
       "        vertical-align: top;\n",
       "    }\n",
       "\n",
       "    .dataframe thead th {\n",
       "        text-align: right;\n",
       "    }\n",
       "</style>\n",
       "<table border=\"1\" class=\"dataframe\">\n",
       "  <thead>\n",
       "    <tr style=\"text-align: right;\">\n",
       "      <th></th>\n",
       "      <th>hubId</th>\n",
       "      <th>sensorId</th>\n",
       "      <th>value</th>\n",
       "    </tr>\n",
       "  </thead>\n",
       "  <tbody>\n",
       "    <tr>\n",
       "      <th>0</th>\n",
       "      <td>TEST_SPEED_HUB</td>\n",
       "      <td>VSS</td>\n",
       "      <td>1.032796</td>\n",
       "    </tr>\n",
       "    <tr>\n",
       "      <th>1</th>\n",
       "      <td>TEST_SPEED_HUB</td>\n",
       "      <td>VSS</td>\n",
       "      <td>1.032796</td>\n",
       "    </tr>\n",
       "    <tr>\n",
       "      <th>2</th>\n",
       "      <td>TEST_SPEED_HUB</td>\n",
       "      <td>VSS</td>\n",
       "      <td>1.032796</td>\n",
       "    </tr>\n",
       "    <tr>\n",
       "      <th>3</th>\n",
       "      <td>TEST_SPEED_HUB</td>\n",
       "      <td>VSS</td>\n",
       "      <td>1.032796</td>\n",
       "    </tr>\n",
       "  </tbody>\n",
       "</table>\n",
       "</div>"
      ],
      "text/plain": [
       "            hubId sensorId     value\n",
       "0  TEST_SPEED_HUB      VSS  1.032796\n",
       "1  TEST_SPEED_HUB      VSS  1.032796\n",
       "2  TEST_SPEED_HUB      VSS  1.032796\n",
       "3  TEST_SPEED_HUB      VSS  1.032796"
      ]
     },
     "execution_count": 247,
     "metadata": {},
     "output_type": "execute_result"
    }
   ],
   "source": [
    "df = pd.DataFrame(virtualSpeedSensorData)  \n",
    "df"
   ]
  },
  {
   "cell_type": "code",
   "execution_count": 263,
   "id": "0eab8361",
   "metadata": {},
   "outputs": [
    {
     "name": "stdout",
     "output_type": "stream",
     "text": [
      "{'_id': '60b8f54a2ac5190013713e33', 'hubId': 'TEST_SPEED_HUB', 'sensorId': 'speedSensor_VIRTUAL', 'value': 1.0327955589886444, 'createdAt': '2021-06-03T15:29:14.497Z', 'updatedAt': '2021-06-03T15:29:14.497Z', '__v': 0}\n",
      "{'_id': '60b8f54a2ac5190013713e34', 'hubId': 'TEST_SPEED_HUB', 'sensorId': 'speedSensor_VIRTUAL', 'value': 1.0327955589886444, 'createdAt': '2021-06-03T15:29:14.515Z', 'updatedAt': '2021-06-03T15:29:14.515Z', '__v': 0}\n",
      "{'_id': '60b8f54a2ac5190013713e35', 'hubId': 'TEST_SPEED_HUB', 'sensorId': 'speedSensor_VIRTUAL', 'value': 1.0327955589886444, 'createdAt': '2021-06-03T15:29:14.525Z', 'updatedAt': '2021-06-03T15:29:14.525Z', '__v': 0}\n",
      "{'_id': '60b8f54a2ac5190013713e36', 'hubId': 'TEST_SPEED_HUB', 'sensorId': 'speedSensor_VIRTUAL', 'value': 1.0327955589886444, 'createdAt': '2021-06-03T15:29:14.533Z', 'updatedAt': '2021-06-03T15:29:14.533Z', '__v': 0}\n"
     ]
    }
   ],
   "source": [
    "for x in range(len(df.index)):\n",
    "    payload = {\n",
    "      \"hubId\": hubId,\n",
    "      \"sensorId\": \"speedSensor_VIRTUAL\",\n",
    "      \"value\": df.value[x]\n",
    "    }\n",
    "    \n",
    "    r = requests.post(url, payload)\n",
    "    json = r.json()\n",
    "    print(json)"
   ]
  },
  {
   "cell_type": "code",
   "execution_count": null,
   "id": "d88861c6",
   "metadata": {},
   "outputs": [],
   "source": []
  },
  {
   "cell_type": "code",
   "execution_count": 112,
   "id": "5e8bbb05",
   "metadata": {},
   "outputs": [],
   "source": [
    "# End of file"
   ]
  }
 ],
 "metadata": {
  "kernelspec": {
   "display_name": "Python 3",
   "language": "python",
   "name": "python3"
  },
  "language_info": {
   "codemirror_mode": {
    "name": "ipython",
    "version": 3
   },
   "file_extension": ".py",
   "mimetype": "text/x-python",
   "name": "python",
   "nbconvert_exporter": "python",
   "pygments_lexer": "ipython3",
   "version": "3.9.5"
  }
 },
 "nbformat": 4,
 "nbformat_minor": 5
}
