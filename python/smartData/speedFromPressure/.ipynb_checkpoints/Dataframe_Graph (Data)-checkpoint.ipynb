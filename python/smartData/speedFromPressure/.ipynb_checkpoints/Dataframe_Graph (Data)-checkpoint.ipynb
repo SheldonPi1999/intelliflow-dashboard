{
 "cells": [
  {
   "cell_type": "code",
   "execution_count": 23,
   "id": "51851291",
   "metadata": {},
   "outputs": [],
   "source": [
    "# In this notebook we will read the data from 2 pressuresensors that are connected to the same hub. \n",
    "# Next we will process this data and calculate the speed of the liquid.\n",
    "# Lastly we will create a virtual (speed) sensor and push virtual data to the database."
   ]
  },
  {
   "cell_type": "code",
   "execution_count": null,
   "id": "4422b431",
   "metadata": {},
   "outputs": [],
   "source": [
    "# Run this line if you don't have the 'requests' package installed.\n",
    "# !pip3 install requests"
   ]
  },
  {
   "cell_type": "code",
   "execution_count": 45,
   "id": "305e6c2b",
   "metadata": {},
   "outputs": [],
   "source": [
    "# Run this line if you don't have the 'pandas' package installed.\n",
    "# !pip3 install pandas"
   ]
  },
  {
   "cell_type": "code",
   "execution_count": 3,
   "id": "1d817abe",
   "metadata": {},
   "outputs": [],
   "source": [
    "# Run this line if you don't have the 'matplotlib' package installed.\n",
    "# !pip3 install matplotlib"
   ]
  },
  {
   "cell_type": "code",
   "execution_count": 30,
   "id": "39071a74",
   "metadata": {},
   "outputs": [],
   "source": [
    "import requests\n",
    "import pandas as pd"
   ]
  },
  {
   "cell_type": "code",
   "execution_count": 31,
   "id": "0ebdada2",
   "metadata": {},
   "outputs": [],
   "source": [
    "# Fill in your API server ip.\n",
    "serverIp = \"192.168.0.28\""
   ]
  },
  {
   "cell_type": "code",
   "execution_count": 32,
   "id": "1cb96dc7",
   "metadata": {},
   "outputs": [],
   "source": [
    "# Fill in your API server port.\n",
    "serverPort = \"3030\""
   ]
  },
  {
   "cell_type": "code",
   "execution_count": 33,
   "id": "85c66377",
   "metadata": {},
   "outputs": [],
   "source": [
    "url = \"http://\"+serverIp+\":\"+serverPort+\"/api/v1/data\""
   ]
  },
  {
   "cell_type": "code",
   "execution_count": 34,
   "id": "ba75e654",
   "metadata": {},
   "outputs": [],
   "source": [
    "# Choose the hub that includes the pressuresensors\n",
    "hubId = \"TEST_SPEED_HUB\"\n",
    "\n",
    "getSpecificData = {\n",
    "    \"hubId\": hubId,\n",
    "}"
   ]
  },
  {
   "cell_type": "code",
   "execution_count": 35,
   "id": "5dacc76d",
   "metadata": {},
   "outputs": [],
   "source": [
    "r = requests.get(url, getSpecificData)\n",
    "json = r.json()\n",
    "# json"
   ]
  },
  {
   "cell_type": "code",
   "execution_count": 36,
   "id": "74adf09d",
   "metadata": {},
   "outputs": [],
   "source": [
    "# sensorData is a list of dicts.\n",
    "sensorData = json['data']\n",
    "# sensorData"
   ]
  },
  {
   "cell_type": "code",
   "execution_count": 39,
   "id": "25f7a75c",
   "metadata": {
    "scrolled": true
   },
   "outputs": [
    {
     "data": {
      "text/html": [
       "<div>\n",
       "<style scoped>\n",
       "    .dataframe tbody tr th:only-of-type {\n",
       "        vertical-align: middle;\n",
       "    }\n",
       "\n",
       "    .dataframe tbody tr th {\n",
       "        vertical-align: top;\n",
       "    }\n",
       "\n",
       "    .dataframe thead th {\n",
       "        text-align: right;\n",
       "    }\n",
       "</style>\n",
       "<table border=\"1\" class=\"dataframe\">\n",
       "  <thead>\n",
       "    <tr style=\"text-align: right;\">\n",
       "      <th></th>\n",
       "      <th>hubId</th>\n",
       "      <th>sensorId</th>\n",
       "      <th>value</th>\n",
       "      <th>createdAt</th>\n",
       "    </tr>\n",
       "  </thead>\n",
       "  <tbody>\n",
       "    <tr>\n",
       "      <th>0</th>\n",
       "      <td>TEST_SPEED_HUB</td>\n",
       "      <td>PS0</td>\n",
       "      <td>1500</td>\n",
       "      <td>2021-06-02T23:41:49.844Z</td>\n",
       "    </tr>\n",
       "    <tr>\n",
       "      <th>1</th>\n",
       "      <td>TEST_SPEED_HUB</td>\n",
       "      <td>PS0</td>\n",
       "      <td>1500</td>\n",
       "      <td>2021-06-02T23:41:50.427Z</td>\n",
       "    </tr>\n",
       "    <tr>\n",
       "      <th>2</th>\n",
       "      <td>TEST_SPEED_HUB</td>\n",
       "      <td>PS0</td>\n",
       "      <td>1500</td>\n",
       "      <td>2021-06-02T23:41:51.833Z</td>\n",
       "    </tr>\n",
       "    <tr>\n",
       "      <th>3</th>\n",
       "      <td>TEST_SPEED_HUB</td>\n",
       "      <td>PS0</td>\n",
       "      <td>1500</td>\n",
       "      <td>2021-06-02T23:41:52.464Z</td>\n",
       "    </tr>\n",
       "    <tr>\n",
       "      <th>4</th>\n",
       "      <td>TEST_SPEED_HUB</td>\n",
       "      <td>PS1</td>\n",
       "      <td>2000</td>\n",
       "      <td>2021-06-02T23:42:05.167Z</td>\n",
       "    </tr>\n",
       "    <tr>\n",
       "      <th>5</th>\n",
       "      <td>TEST_SPEED_HUB</td>\n",
       "      <td>PS1</td>\n",
       "      <td>2000</td>\n",
       "      <td>2021-06-02T23:42:05.710Z</td>\n",
       "    </tr>\n",
       "    <tr>\n",
       "      <th>6</th>\n",
       "      <td>TEST_SPEED_HUB</td>\n",
       "      <td>PS1</td>\n",
       "      <td>2000</td>\n",
       "      <td>2021-06-02T23:42:06.139Z</td>\n",
       "    </tr>\n",
       "    <tr>\n",
       "      <th>7</th>\n",
       "      <td>TEST_SPEED_HUB</td>\n",
       "      <td>PS1</td>\n",
       "      <td>2000</td>\n",
       "      <td>2021-06-02T23:42:06.488Z</td>\n",
       "    </tr>\n",
       "  </tbody>\n",
       "</table>\n",
       "</div>"
      ],
      "text/plain": [
       "            hubId sensorId  value                 createdAt\n",
       "0  TEST_SPEED_HUB      PS0   1500  2021-06-02T23:41:49.844Z\n",
       "1  TEST_SPEED_HUB      PS0   1500  2021-06-02T23:41:50.427Z\n",
       "2  TEST_SPEED_HUB      PS0   1500  2021-06-02T23:41:51.833Z\n",
       "3  TEST_SPEED_HUB      PS0   1500  2021-06-02T23:41:52.464Z\n",
       "4  TEST_SPEED_HUB      PS1   2000  2021-06-02T23:42:05.167Z\n",
       "5  TEST_SPEED_HUB      PS1   2000  2021-06-02T23:42:05.710Z\n",
       "6  TEST_SPEED_HUB      PS1   2000  2021-06-02T23:42:06.139Z\n",
       "7  TEST_SPEED_HUB      PS1   2000  2021-06-02T23:42:06.488Z"
      ]
     },
     "execution_count": 39,
     "metadata": {},
     "output_type": "execute_result"
    }
   ],
   "source": [
    "df = pd.DataFrame(sensorData)\n",
    "\n",
    "# Show all columns\n",
    "#df\n",
    "\n",
    "# Show important columns\n",
    "df[[\"hubId\", \"sensorId\", \"value\", \"createdAt\"]]"
   ]
  },
  {
   "cell_type": "code",
   "execution_count": 40,
   "id": "9f023a52",
   "metadata": {},
   "outputs": [],
   "source": [
    "# Fill in which pressureSensor and hub you want a dataframe of\n",
    "pressureSensorId_1 = \"PS0\"\n",
    "pressureSensorId_2 = \"PS1\""
   ]
  },
  {
   "cell_type": "code",
   "execution_count": 41,
   "id": "b11e09be",
   "metadata": {},
   "outputs": [],
   "source": [
    "pressureSensor_1_df = df[df[\"sensorId\"] == pressureSensorId_1]\n",
    "pressureSensor_2_df = df[df[\"sensorId\"] == pressureSensorId_2]\n"
   ]
  },
  {
   "cell_type": "code",
   "execution_count": 44,
   "id": "43fd6ff7",
   "metadata": {},
   "outputs": [
    {
     "data": {
      "text/html": [
       "<div>\n",
       "<style scoped>\n",
       "    .dataframe tbody tr th:only-of-type {\n",
       "        vertical-align: middle;\n",
       "    }\n",
       "\n",
       "    .dataframe tbody tr th {\n",
       "        vertical-align: top;\n",
       "    }\n",
       "\n",
       "    .dataframe thead th {\n",
       "        text-align: right;\n",
       "    }\n",
       "</style>\n",
       "<table border=\"1\" class=\"dataframe\">\n",
       "  <thead>\n",
       "    <tr style=\"text-align: right;\">\n",
       "      <th></th>\n",
       "      <th>_id</th>\n",
       "      <th>hubId</th>\n",
       "      <th>sensorId</th>\n",
       "      <th>value</th>\n",
       "      <th>createdAt</th>\n",
       "      <th>updatedAt</th>\n",
       "      <th>__v</th>\n",
       "    </tr>\n",
       "  </thead>\n",
       "  <tbody>\n",
       "    <tr>\n",
       "      <th>0</th>\n",
       "      <td>60b8173d2ac5190013713e06</td>\n",
       "      <td>TEST_SPEED_HUB</td>\n",
       "      <td>PS0</td>\n",
       "      <td>1500</td>\n",
       "      <td>2021-06-02T23:41:49.844Z</td>\n",
       "      <td>2021-06-02T23:41:49.844Z</td>\n",
       "      <td>0</td>\n",
       "    </tr>\n",
       "    <tr>\n",
       "      <th>1</th>\n",
       "      <td>60b8173e2ac5190013713e07</td>\n",
       "      <td>TEST_SPEED_HUB</td>\n",
       "      <td>PS0</td>\n",
       "      <td>1500</td>\n",
       "      <td>2021-06-02T23:41:50.427Z</td>\n",
       "      <td>2021-06-02T23:41:50.427Z</td>\n",
       "      <td>0</td>\n",
       "    </tr>\n",
       "    <tr>\n",
       "      <th>2</th>\n",
       "      <td>60b8173f2ac5190013713e08</td>\n",
       "      <td>TEST_SPEED_HUB</td>\n",
       "      <td>PS0</td>\n",
       "      <td>1500</td>\n",
       "      <td>2021-06-02T23:41:51.833Z</td>\n",
       "      <td>2021-06-02T23:41:51.833Z</td>\n",
       "      <td>0</td>\n",
       "    </tr>\n",
       "    <tr>\n",
       "      <th>3</th>\n",
       "      <td>60b817402ac5190013713e09</td>\n",
       "      <td>TEST_SPEED_HUB</td>\n",
       "      <td>PS0</td>\n",
       "      <td>1500</td>\n",
       "      <td>2021-06-02T23:41:52.464Z</td>\n",
       "      <td>2021-06-02T23:41:52.464Z</td>\n",
       "      <td>0</td>\n",
       "    </tr>\n",
       "  </tbody>\n",
       "</table>\n",
       "</div>"
      ],
      "text/plain": [
       "                        _id           hubId sensorId  value  \\\n",
       "0  60b8173d2ac5190013713e06  TEST_SPEED_HUB      PS0   1500   \n",
       "1  60b8173e2ac5190013713e07  TEST_SPEED_HUB      PS0   1500   \n",
       "2  60b8173f2ac5190013713e08  TEST_SPEED_HUB      PS0   1500   \n",
       "3  60b817402ac5190013713e09  TEST_SPEED_HUB      PS0   1500   \n",
       "\n",
       "                  createdAt                 updatedAt  __v  \n",
       "0  2021-06-02T23:41:49.844Z  2021-06-02T23:41:49.844Z    0  \n",
       "1  2021-06-02T23:41:50.427Z  2021-06-02T23:41:50.427Z    0  \n",
       "2  2021-06-02T23:41:51.833Z  2021-06-02T23:41:51.833Z    0  \n",
       "3  2021-06-02T23:41:52.464Z  2021-06-02T23:41:52.464Z    0  "
      ]
     },
     "execution_count": 44,
     "metadata": {},
     "output_type": "execute_result"
    }
   ],
   "source": [
    "# Show sensor 1 df\n",
    "pressureSensor_1_df"
   ]
  },
  {
   "cell_type": "code",
   "execution_count": 47,
   "id": "ed070587",
   "metadata": {},
   "outputs": [
    {
     "data": {
      "text/html": [
       "<div>\n",
       "<style scoped>\n",
       "    .dataframe tbody tr th:only-of-type {\n",
       "        vertical-align: middle;\n",
       "    }\n",
       "\n",
       "    .dataframe tbody tr th {\n",
       "        vertical-align: top;\n",
       "    }\n",
       "\n",
       "    .dataframe thead th {\n",
       "        text-align: right;\n",
       "    }\n",
       "</style>\n",
       "<table border=\"1\" class=\"dataframe\">\n",
       "  <thead>\n",
       "    <tr style=\"text-align: right;\">\n",
       "      <th></th>\n",
       "      <th>_id</th>\n",
       "      <th>hubId</th>\n",
       "      <th>sensorId</th>\n",
       "      <th>value</th>\n",
       "      <th>createdAt</th>\n",
       "      <th>updatedAt</th>\n",
       "      <th>__v</th>\n",
       "    </tr>\n",
       "  </thead>\n",
       "  <tbody>\n",
       "    <tr>\n",
       "      <th>4</th>\n",
       "      <td>60b8174d2ac5190013713e0a</td>\n",
       "      <td>TEST_SPEED_HUB</td>\n",
       "      <td>PS1</td>\n",
       "      <td>2000</td>\n",
       "      <td>2021-06-02T23:42:05.167Z</td>\n",
       "      <td>2021-06-02T23:42:05.167Z</td>\n",
       "      <td>0</td>\n",
       "    </tr>\n",
       "    <tr>\n",
       "      <th>5</th>\n",
       "      <td>60b8174d2ac5190013713e0b</td>\n",
       "      <td>TEST_SPEED_HUB</td>\n",
       "      <td>PS1</td>\n",
       "      <td>2000</td>\n",
       "      <td>2021-06-02T23:42:05.710Z</td>\n",
       "      <td>2021-06-02T23:42:05.710Z</td>\n",
       "      <td>0</td>\n",
       "    </tr>\n",
       "    <tr>\n",
       "      <th>6</th>\n",
       "      <td>60b8174e2ac5190013713e0c</td>\n",
       "      <td>TEST_SPEED_HUB</td>\n",
       "      <td>PS1</td>\n",
       "      <td>2000</td>\n",
       "      <td>2021-06-02T23:42:06.139Z</td>\n",
       "      <td>2021-06-02T23:42:06.139Z</td>\n",
       "      <td>0</td>\n",
       "    </tr>\n",
       "    <tr>\n",
       "      <th>7</th>\n",
       "      <td>60b8174e2ac5190013713e0d</td>\n",
       "      <td>TEST_SPEED_HUB</td>\n",
       "      <td>PS1</td>\n",
       "      <td>2000</td>\n",
       "      <td>2021-06-02T23:42:06.488Z</td>\n",
       "      <td>2021-06-02T23:42:06.488Z</td>\n",
       "      <td>0</td>\n",
       "    </tr>\n",
       "  </tbody>\n",
       "</table>\n",
       "</div>"
      ],
      "text/plain": [
       "                        _id           hubId sensorId  value  \\\n",
       "4  60b8174d2ac5190013713e0a  TEST_SPEED_HUB      PS1   2000   \n",
       "5  60b8174d2ac5190013713e0b  TEST_SPEED_HUB      PS1   2000   \n",
       "6  60b8174e2ac5190013713e0c  TEST_SPEED_HUB      PS1   2000   \n",
       "7  60b8174e2ac5190013713e0d  TEST_SPEED_HUB      PS1   2000   \n",
       "\n",
       "                  createdAt                 updatedAt  __v  \n",
       "4  2021-06-02T23:42:05.167Z  2021-06-02T23:42:05.167Z    0  \n",
       "5  2021-06-02T23:42:05.710Z  2021-06-02T23:42:05.710Z    0  \n",
       "6  2021-06-02T23:42:06.139Z  2021-06-02T23:42:06.139Z    0  \n",
       "7  2021-06-02T23:42:06.488Z  2021-06-02T23:42:06.488Z    0  "
      ]
     },
     "execution_count": 47,
     "metadata": {},
     "output_type": "execute_result"
    }
   ],
   "source": [
    "# Show sensor 2 df\n",
    "pressureSensor_2_df"
   ]
  },
  {
   "cell_type": "code",
   "execution_count": 83,
   "id": "3095f1ab",
   "metadata": {},
   "outputs": [],
   "source": [
    "virtualSpeedSensorData = {'hubId': hubId, 'sensorId': \"VSS\", 'value': [1, 2, 3, 4]} "
   ]
  },
  {
   "cell_type": "code",
   "execution_count": 68,
   "id": "4b40ebe8",
   "metadata": {},
   "outputs": [],
   "source": [
    "total_rows_sensor_1 = len(pressureSensor_1_df.index)\n",
    "total_rows_sensor_2 = len(pressureSensor_2_df.index)"
   ]
  },
  {
   "cell_type": "code",
   "execution_count": 72,
   "id": "8dd18324",
   "metadata": {},
   "outputs": [
    {
     "name": "stdout",
     "output_type": "stream",
     "text": [
      "1500\n",
      "1500\n",
      "1500\n",
      "1500\n"
     ]
    }
   ],
   "source": [
    "for x in range(total_rows_sensor_1):\n",
    "    temp_value_1 = pressureSensor_1_df['value'][x]\n",
    "    temp_value_2 = pressureSensor_2_df['value'][x]\n",
    "    "
   ]
  },
  {
   "cell_type": "code",
   "execution_count": 82,
   "id": "84424106",
   "metadata": {},
   "outputs": [
    {
     "data": {
      "text/plain": [
       "{'hubId': [1, 2, 3, 4],\n",
       " 'sensorId': 'VSS',\n",
       " 'value': [1, 2, 3, 4, 5, 5, 5, 5, 5]}"
      ]
     },
     "execution_count": 82,
     "metadata": {},
     "output_type": "execute_result"
    }
   ],
   "source": [
    "(virtualSpeedSensorData['value']).append(5)\n",
    "(virtualSpeedSensorData['hubId']).append(5)\n",
    "virtualSpeedSensorData"
   ]
  },
  {
   "cell_type": "code",
   "execution_count": 81,
   "id": "92e167d6",
   "metadata": {},
   "outputs": [
    {
     "ename": "ValueError",
     "evalue": "arrays must all be same length",
     "output_type": "error",
     "traceback": [
      "\u001b[0;31m---------------------------------------------------------------------------\u001b[0m",
      "\u001b[0;31mValueError\u001b[0m                                Traceback (most recent call last)",
      "\u001b[0;32m<ipython-input-81-f473b1fe8e17>\u001b[0m in \u001b[0;36m<module>\u001b[0;34m\u001b[0m\n\u001b[0;32m----> 1\u001b[0;31m \u001b[0mdf\u001b[0m \u001b[0;34m=\u001b[0m \u001b[0mpd\u001b[0m\u001b[0;34m.\u001b[0m\u001b[0mDataFrame\u001b[0m\u001b[0;34m(\u001b[0m\u001b[0mvirtualSpeedSensorData\u001b[0m\u001b[0;34m)\u001b[0m\u001b[0;34m\u001b[0m\u001b[0;34m\u001b[0m\u001b[0m\n\u001b[0m\u001b[1;32m      2\u001b[0m \u001b[0mdf\u001b[0m\u001b[0;34m\u001b[0m\u001b[0;34m\u001b[0m\u001b[0m\n",
      "\u001b[0;32m/opt/homebrew/lib/python3.9/site-packages/pandas/core/frame.py\u001b[0m in \u001b[0;36m__init__\u001b[0;34m(self, data, index, columns, dtype, copy)\u001b[0m\n\u001b[1;32m    527\u001b[0m \u001b[0;34m\u001b[0m\u001b[0m\n\u001b[1;32m    528\u001b[0m         \u001b[0;32melif\u001b[0m \u001b[0misinstance\u001b[0m\u001b[0;34m(\u001b[0m\u001b[0mdata\u001b[0m\u001b[0;34m,\u001b[0m \u001b[0mdict\u001b[0m\u001b[0;34m)\u001b[0m\u001b[0;34m:\u001b[0m\u001b[0;34m\u001b[0m\u001b[0;34m\u001b[0m\u001b[0m\n\u001b[0;32m--> 529\u001b[0;31m             \u001b[0mmgr\u001b[0m \u001b[0;34m=\u001b[0m \u001b[0minit_dict\u001b[0m\u001b[0;34m(\u001b[0m\u001b[0mdata\u001b[0m\u001b[0;34m,\u001b[0m \u001b[0mindex\u001b[0m\u001b[0;34m,\u001b[0m \u001b[0mcolumns\u001b[0m\u001b[0;34m,\u001b[0m \u001b[0mdtype\u001b[0m\u001b[0;34m=\u001b[0m\u001b[0mdtype\u001b[0m\u001b[0;34m)\u001b[0m\u001b[0;34m\u001b[0m\u001b[0;34m\u001b[0m\u001b[0m\n\u001b[0m\u001b[1;32m    530\u001b[0m         \u001b[0;32melif\u001b[0m \u001b[0misinstance\u001b[0m\u001b[0;34m(\u001b[0m\u001b[0mdata\u001b[0m\u001b[0;34m,\u001b[0m \u001b[0mma\u001b[0m\u001b[0;34m.\u001b[0m\u001b[0mMaskedArray\u001b[0m\u001b[0;34m)\u001b[0m\u001b[0;34m:\u001b[0m\u001b[0;34m\u001b[0m\u001b[0;34m\u001b[0m\u001b[0m\n\u001b[1;32m    531\u001b[0m             \u001b[0;32mimport\u001b[0m \u001b[0mnumpy\u001b[0m\u001b[0;34m.\u001b[0m\u001b[0mma\u001b[0m\u001b[0;34m.\u001b[0m\u001b[0mmrecords\u001b[0m \u001b[0;32mas\u001b[0m \u001b[0mmrecords\u001b[0m\u001b[0;34m\u001b[0m\u001b[0;34m\u001b[0m\u001b[0m\n",
      "\u001b[0;32m/opt/homebrew/lib/python3.9/site-packages/pandas/core/internals/construction.py\u001b[0m in \u001b[0;36minit_dict\u001b[0;34m(data, index, columns, dtype)\u001b[0m\n\u001b[1;32m    285\u001b[0m             \u001b[0marr\u001b[0m \u001b[0;32mif\u001b[0m \u001b[0;32mnot\u001b[0m \u001b[0mis_datetime64tz_dtype\u001b[0m\u001b[0;34m(\u001b[0m\u001b[0marr\u001b[0m\u001b[0;34m)\u001b[0m \u001b[0;32melse\u001b[0m \u001b[0marr\u001b[0m\u001b[0;34m.\u001b[0m\u001b[0mcopy\u001b[0m\u001b[0;34m(\u001b[0m\u001b[0;34m)\u001b[0m \u001b[0;32mfor\u001b[0m \u001b[0marr\u001b[0m \u001b[0;32min\u001b[0m \u001b[0marrays\u001b[0m\u001b[0;34m\u001b[0m\u001b[0;34m\u001b[0m\u001b[0m\n\u001b[1;32m    286\u001b[0m         ]\n\u001b[0;32m--> 287\u001b[0;31m     \u001b[0;32mreturn\u001b[0m \u001b[0marrays_to_mgr\u001b[0m\u001b[0;34m(\u001b[0m\u001b[0marrays\u001b[0m\u001b[0;34m,\u001b[0m \u001b[0mdata_names\u001b[0m\u001b[0;34m,\u001b[0m \u001b[0mindex\u001b[0m\u001b[0;34m,\u001b[0m \u001b[0mcolumns\u001b[0m\u001b[0;34m,\u001b[0m \u001b[0mdtype\u001b[0m\u001b[0;34m=\u001b[0m\u001b[0mdtype\u001b[0m\u001b[0;34m)\u001b[0m\u001b[0;34m\u001b[0m\u001b[0;34m\u001b[0m\u001b[0m\n\u001b[0m\u001b[1;32m    288\u001b[0m \u001b[0;34m\u001b[0m\u001b[0m\n\u001b[1;32m    289\u001b[0m \u001b[0;34m\u001b[0m\u001b[0m\n",
      "\u001b[0;32m/opt/homebrew/lib/python3.9/site-packages/pandas/core/internals/construction.py\u001b[0m in \u001b[0;36marrays_to_mgr\u001b[0;34m(arrays, arr_names, index, columns, dtype, verify_integrity)\u001b[0m\n\u001b[1;32m     78\u001b[0m         \u001b[0;31m# figure out the index, if necessary\u001b[0m\u001b[0;34m\u001b[0m\u001b[0;34m\u001b[0m\u001b[0;34m\u001b[0m\u001b[0m\n\u001b[1;32m     79\u001b[0m         \u001b[0;32mif\u001b[0m \u001b[0mindex\u001b[0m \u001b[0;32mis\u001b[0m \u001b[0;32mNone\u001b[0m\u001b[0;34m:\u001b[0m\u001b[0;34m\u001b[0m\u001b[0;34m\u001b[0m\u001b[0m\n\u001b[0;32m---> 80\u001b[0;31m             \u001b[0mindex\u001b[0m \u001b[0;34m=\u001b[0m \u001b[0mextract_index\u001b[0m\u001b[0;34m(\u001b[0m\u001b[0marrays\u001b[0m\u001b[0;34m)\u001b[0m\u001b[0;34m\u001b[0m\u001b[0;34m\u001b[0m\u001b[0m\n\u001b[0m\u001b[1;32m     81\u001b[0m         \u001b[0;32melse\u001b[0m\u001b[0;34m:\u001b[0m\u001b[0;34m\u001b[0m\u001b[0;34m\u001b[0m\u001b[0m\n\u001b[1;32m     82\u001b[0m             \u001b[0mindex\u001b[0m \u001b[0;34m=\u001b[0m \u001b[0mensure_index\u001b[0m\u001b[0;34m(\u001b[0m\u001b[0mindex\u001b[0m\u001b[0;34m)\u001b[0m\u001b[0;34m\u001b[0m\u001b[0;34m\u001b[0m\u001b[0m\n",
      "\u001b[0;32m/opt/homebrew/lib/python3.9/site-packages/pandas/core/internals/construction.py\u001b[0m in \u001b[0;36mextract_index\u001b[0;34m(data)\u001b[0m\n\u001b[1;32m    399\u001b[0m             \u001b[0mlengths\u001b[0m \u001b[0;34m=\u001b[0m \u001b[0mlist\u001b[0m\u001b[0;34m(\u001b[0m\u001b[0mset\u001b[0m\u001b[0;34m(\u001b[0m\u001b[0mraw_lengths\u001b[0m\u001b[0;34m)\u001b[0m\u001b[0;34m)\u001b[0m\u001b[0;34m\u001b[0m\u001b[0;34m\u001b[0m\u001b[0m\n\u001b[1;32m    400\u001b[0m             \u001b[0;32mif\u001b[0m \u001b[0mlen\u001b[0m\u001b[0;34m(\u001b[0m\u001b[0mlengths\u001b[0m\u001b[0;34m)\u001b[0m \u001b[0;34m>\u001b[0m \u001b[0;36m1\u001b[0m\u001b[0;34m:\u001b[0m\u001b[0;34m\u001b[0m\u001b[0;34m\u001b[0m\u001b[0m\n\u001b[0;32m--> 401\u001b[0;31m                 \u001b[0;32mraise\u001b[0m \u001b[0mValueError\u001b[0m\u001b[0;34m(\u001b[0m\u001b[0;34m\"arrays must all be same length\"\u001b[0m\u001b[0;34m)\u001b[0m\u001b[0;34m\u001b[0m\u001b[0;34m\u001b[0m\u001b[0m\n\u001b[0m\u001b[1;32m    402\u001b[0m \u001b[0;34m\u001b[0m\u001b[0m\n\u001b[1;32m    403\u001b[0m             \u001b[0;32mif\u001b[0m \u001b[0mhave_dicts\u001b[0m\u001b[0;34m:\u001b[0m\u001b[0;34m\u001b[0m\u001b[0;34m\u001b[0m\u001b[0m\n",
      "\u001b[0;31mValueError\u001b[0m: arrays must all be same length"
     ]
    }
   ],
   "source": [
    "df = pd.DataFrame(virtualSpeedSensorData)  \n",
    "df"
   ]
  },
  {
   "cell_type": "code",
   "execution_count": null,
   "id": "87ada2b1",
   "metadata": {},
   "outputs": [],
   "source": []
  },
  {
   "cell_type": "code",
   "execution_count": null,
   "id": "9917f925",
   "metadata": {},
   "outputs": [],
   "source": []
  },
  {
   "cell_type": "code",
   "execution_count": null,
   "id": "ffb774bd",
   "metadata": {},
   "outputs": [],
   "source": []
  },
  {
   "cell_type": "code",
   "execution_count": null,
   "id": "9cc431e0",
   "metadata": {},
   "outputs": [],
   "source": []
  },
  {
   "cell_type": "code",
   "execution_count": null,
   "id": "f601cd58",
   "metadata": {},
   "outputs": [],
   "source": []
  },
  {
   "cell_type": "code",
   "execution_count": null,
   "id": "f6f96d9e",
   "metadata": {},
   "outputs": [],
   "source": []
  },
  {
   "cell_type": "code",
   "execution_count": null,
   "id": "892df73b",
   "metadata": {},
   "outputs": [],
   "source": []
  },
  {
   "cell_type": "code",
   "execution_count": null,
   "id": "4ba2381a",
   "metadata": {},
   "outputs": [],
   "source": []
  },
  {
   "cell_type": "code",
   "execution_count": null,
   "id": "192fd340",
   "metadata": {},
   "outputs": [],
   "source": []
  },
  {
   "cell_type": "code",
   "execution_count": null,
   "id": "22be980b",
   "metadata": {},
   "outputs": [],
   "source": []
  },
  {
   "cell_type": "code",
   "execution_count": 112,
   "id": "5e8bbb05",
   "metadata": {},
   "outputs": [],
   "source": [
    "# End of file"
   ]
  }
 ],
 "metadata": {
  "kernelspec": {
   "display_name": "Python 3",
   "language": "python",
   "name": "python3"
  },
  "language_info": {
   "codemirror_mode": {
    "name": "ipython",
    "version": 3
   },
   "file_extension": ".py",
   "mimetype": "text/x-python",
   "name": "python",
   "nbconvert_exporter": "python",
   "pygments_lexer": "ipython3",
   "version": "3.9.5"
  }
 },
 "nbformat": 4,
 "nbformat_minor": 5
}
