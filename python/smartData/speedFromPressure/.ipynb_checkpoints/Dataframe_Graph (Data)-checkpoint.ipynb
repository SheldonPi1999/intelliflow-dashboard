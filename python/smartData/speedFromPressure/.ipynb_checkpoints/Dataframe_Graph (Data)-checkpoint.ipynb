{
 "cells": [
  {
   "cell_type": "code",
   "execution_count": 327,
   "id": "51851291",
   "metadata": {},
   "outputs": [],
   "source": [
    "# In this notebook we will read the data from 2 pressuresensors that are connected to the same hub. \n",
    "# Next we will process this data and calculate the speed of the liquid.\n",
    "# Lastly we will create a virtual (speed) sensor and push virtual data to the database."
   ]
  },
  {
   "cell_type": "code",
   "execution_count": 328,
   "id": "547a7cc7",
   "metadata": {},
   "outputs": [],
   "source": [
    "# Run this line if you don't have the 'requests' package installed.\n",
    "# !pip3 install requests"
   ]
  },
  {
   "cell_type": "code",
   "execution_count": 329,
   "id": "305e6c2b",
   "metadata": {},
   "outputs": [],
   "source": [
    "# Run this line if you don't have the 'pandas' package installed.\n",
    "# !pip3 install pandas"
   ]
  },
  {
   "cell_type": "code",
   "execution_count": 330,
   "id": "1d817abe",
   "metadata": {},
   "outputs": [],
   "source": [
    "# Run this line if you don't have the 'matplotlib' package installed.\n",
    "# !pip3 install matplotlib"
   ]
  },
  {
   "cell_type": "code",
   "execution_count": 331,
   "id": "39071a74",
   "metadata": {},
   "outputs": [],
   "source": [
    "import math \n",
    "import requests\n",
    "import pandas as pd"
   ]
  },
  {
   "cell_type": "code",
   "execution_count": 332,
   "id": "0ebdada2",
   "metadata": {},
   "outputs": [],
   "source": [
    "# Fill in your API server ip.\n",
    "serverIp = \"192.168.9.225\""
   ]
  },
  {
   "cell_type": "code",
   "execution_count": 333,
   "id": "1cb96dc7",
   "metadata": {},
   "outputs": [],
   "source": [
    "# Fill in your API server port.\n",
    "serverPort = \"3030\""
   ]
  },
  {
   "cell_type": "code",
   "execution_count": 334,
   "id": "85c66377",
   "metadata": {},
   "outputs": [],
   "source": [
    "url = \"http://\"+serverIp+\":\"+serverPort+\"/api/v1/data\""
   ]
  },
  {
   "cell_type": "code",
   "execution_count": 335,
   "id": "47ea357f",
   "metadata": {},
   "outputs": [],
   "source": [
    "# Choose the hub that includes the pressuresensors\n",
    "hubId = \"ESP_ARDUINO_PRESSURE\"\n",
    "\n",
    "getSpecificData = {\n",
    "    \"hubId\": hubId,\n",
    "}"
   ]
  },
  {
   "cell_type": "code",
   "execution_count": null,
   "id": "5dacc76d",
   "metadata": {},
   "outputs": [],
   "source": [
    "r = requests.get(url, getSpecificData)\n",
    "json = r.json()\n",
    "# json"
   ]
  },
  {
   "cell_type": "code",
   "execution_count": null,
   "id": "74adf09d",
   "metadata": {},
   "outputs": [],
   "source": [
    "# sensorData is a list of dicts.\n",
    "sensorData = json['data']\n",
    "# sensorData"
   ]
  },
  {
   "cell_type": "code",
   "execution_count": null,
   "id": "25f7a75c",
   "metadata": {
    "scrolled": true
   },
   "outputs": [],
   "source": [
    "df = pd.DataFrame(sensorData)\n",
    "\n",
    "# Show all columns\n",
    "#df\n",
    "\n",
    "# Show important columns\n",
    "df[[\"hubId\", \"sensorId\", \"value\", \"createdAt\"]]"
   ]
  },
  {
   "cell_type": "code",
   "execution_count": null,
   "id": "9f023a52",
   "metadata": {},
   "outputs": [],
   "source": [
    "# Fill from which pressureSensors you want data.\n",
    "pressureSensorId_1 = \"pressureSensor0\"\n",
    "pressureSensorId_2 = \"pressureSensor1\""
   ]
  },
  {
   "cell_type": "code",
   "execution_count": null,
   "id": "b11e09be",
   "metadata": {},
   "outputs": [],
   "source": [
    "pressureSensor_1_df = df[df[\"sensorId\"] == pressureSensorId_1]\n",
    "pressureSensor_1_df.reset_index(inplace = True)\n",
    "\n",
    "pressureSensor_2_df = df[df[\"sensorId\"] == pressureSensorId_2]\n",
    "pressureSensor_2_df.reset_index(inplace = True)"
   ]
  },
  {
   "cell_type": "code",
   "execution_count": null,
   "id": "43fd6ff7",
   "metadata": {},
   "outputs": [],
   "source": [
    "# Show sensor 1 df\n",
    "pressureSensor_1_df"
   ]
  },
  {
   "cell_type": "code",
   "execution_count": null,
   "id": "b9b51273",
   "metadata": {},
   "outputs": [],
   "source": [
    "# Show sensor 2 df\n",
    "pressureSensor_2_df"
   ]
  },
  {
   "cell_type": "code",
   "execution_count": null,
   "id": "3095f1ab",
   "metadata": {},
   "outputs": [],
   "source": [
    "virtualSpeedSensorData = {'hubId': hubId, 'sensorId': \"VirtualSpeed\", 'value': []} "
   ]
  },
  {
   "cell_type": "code",
   "execution_count": null,
   "id": "a40d9d41",
   "metadata": {},
   "outputs": [],
   "source": [
    "total_rows_sensor_1 = len(pressureSensor_1_df.index)\n",
    "total_rows_sensor_2 = len(pressureSensor_2_df.index)\n",
    "\n",
    "# total_rows_sensor_1\n",
    "# total_rows_sensor_2"
   ]
  },
  {
   "cell_type": "code",
   "execution_count": null,
   "id": "ddd15c79",
   "metadata": {},
   "outputs": [],
   "source": [
    "for x in range(total_rows_sensor_1):\n",
    "    temp_value_1 = pressureSensor_1_df['value'][x]\n",
    "    temp_value_2 = pressureSensor_2_df['value'][x]\n",
    "    \n",
    "    # Info about the fluid\n",
    "    rhoFluid = 1000 # kg/m3\n",
    "    \n",
    "    # A1 and A2\n",
    "    area_point_1 = math.pi * ((9.6 / 1000) ** 2)\n",
    "    area_point_2 = math.pi * ((19.2 / 1000) ** 2)\n",
    "    \n",
    "    # deltaP = abs(P1 - P2) or abs(P2 - P1)\n",
    "    deltaPressure = abs(temp_value_1 - temp_value_2)\n",
    "    \n",
    "    # numerator (same for both)\n",
    "    numerator = ((2 * deltaPressure) / rhoFluid)\n",
    "    \n",
    "    # denominators\n",
    "    denominator_v1 = abs(((area_point_1 ** 2)/(area_point_2 ** 2)) - 1)\n",
    "    \n",
    "    denominator_v2 = abs(1 - ((area_point_2 ** 2)/(area_point_1 ** 2)))\n",
    "    \n",
    "    # speedpoint_1\n",
    "    speedPoint_1 = math.sqrt(numerator/denominator_v1)\n",
    "    \n",
    "    # speedpoint_2\n",
    "    speedPoint_2 = math.sqrt(numerator/denominator_v2)\n",
    "    \n",
    "    # speed diffrence\n",
    "    deltaSpeed = abs(speedPoint_2 - speedPoint_1)\n",
    "    \n",
    "    \n",
    "    print(\"v1: \")\n",
    "    print(speedPoint_1)\n",
    "    \n",
    "    print(\"v2: \")\n",
    "    print(speedPoint_2)\n",
    "        \n",
    "    print(\"delta_v: \")\n",
    "    print(deltaSpeed)\n",
    "\n",
    "    virtualSpeedSensorData['value'].append(speedPoint_1)"
   ]
  },
  {
   "cell_type": "code",
   "execution_count": null,
   "id": "aef75200",
   "metadata": {},
   "outputs": [],
   "source": [
    "virtualSpeedSensorData"
   ]
  },
  {
   "cell_type": "code",
   "execution_count": null,
   "id": "de8210ac",
   "metadata": {
    "scrolled": true
   },
   "outputs": [],
   "source": [
    "df = pd.DataFrame(virtualSpeedSensorData)  \n",
    "df"
   ]
  },
  {
   "cell_type": "code",
   "execution_count": null,
   "id": "0eab8361",
   "metadata": {},
   "outputs": [],
   "source": [
    "for x in range(len(df.index)):\n",
    "    payload = {\n",
    "      \"hubId\": hubId,\n",
    "      \"sensorId\": \"speedSensor_VIRTUAL\",\n",
    "      \"value\": df.value[x]\n",
    "    }\n",
    "    \n",
    "    r = requests.post(url, payload)\n",
    "    json = r.json()\n",
    "    print(json)"
   ]
  },
  {
   "cell_type": "code",
   "execution_count": null,
   "id": "5e8bbb05",
   "metadata": {},
   "outputs": [],
   "source": [
    "# End of file"
   ]
  },
  {
   "cell_type": "code",
   "execution_count": null,
   "id": "540e1e13",
   "metadata": {},
   "outputs": [],
   "source": []
  }
 ],
 "metadata": {
  "kernelspec": {
   "display_name": "Python 3",
   "language": "python",
   "name": "python3"
  },
  "language_info": {
   "codemirror_mode": {
    "name": "ipython",
    "version": 3
   },
   "file_extension": ".py",
   "mimetype": "text/x-python",
   "name": "python",
   "nbconvert_exporter": "python",
   "pygments_lexer": "ipython3",
   "version": "3.9.5"
  }
 },
 "nbformat": 4,
 "nbformat_minor": 5
}
