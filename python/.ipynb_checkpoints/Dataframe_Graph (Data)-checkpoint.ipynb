{
 "cells": [
  {
   "cell_type": "code",
   "execution_count": 46,
   "id": "51851291",
   "metadata": {},
   "outputs": [],
   "source": [
    "# Run this line if you don't have the 'requests' package installed.\n",
    "# !pip3 install requests"
   ]
  },
  {
   "cell_type": "code",
   "execution_count": 45,
   "id": "305e6c2b",
   "metadata": {},
   "outputs": [],
   "source": [
    "# Run this line if you don't have the 'pandas' package installed.\n",
    "# !pip3 install pandas"
   ]
  },
  {
   "cell_type": "code",
   "execution_count": 2,
   "id": "0ace2904",
   "metadata": {},
   "outputs": [
    {
     "name": "stdout",
     "output_type": "stream",
     "text": [
      "Collecting matplotlib\n",
      "  Downloading matplotlib-3.4.2.tar.gz (37.3 MB)\n",
      "\u001b[K     |████████████████████████████████| 37.3 MB 2.6 MB/s eta 0:00:01\n",
      "\u001b[?25hCollecting cycler>=0.10\n",
      "  Downloading cycler-0.10.0-py2.py3-none-any.whl (6.5 kB)\n",
      "Collecting kiwisolver>=1.0.1\n",
      "  Downloading kiwisolver-1.3.1.tar.gz (53 kB)\n",
      "\u001b[K     |████████████████████████████████| 53 kB 4.3 MB/s eta 0:00:01\n",
      "\u001b[?25hRequirement already satisfied: numpy>=1.16 in /opt/homebrew/lib/python3.9/site-packages (from matplotlib) (1.20.3)\n",
      "Collecting pillow>=6.2.0\n",
      "  Downloading Pillow-8.2.0-cp39-cp39-macosx_11_0_arm64.whl (2.7 MB)\n",
      "\u001b[K     |████████████████████████████████| 2.7 MB 5.1 MB/s eta 0:00:01\n",
      "\u001b[?25hRequirement already satisfied: pyparsing>=2.2.1 in /opt/homebrew/lib/python3.9/site-packages (from matplotlib) (2.4.7)\n",
      "Requirement already satisfied: python-dateutil>=2.7 in /opt/homebrew/lib/python3.9/site-packages (from matplotlib) (2.8.1)\n",
      "Requirement already satisfied: six in /Users/macbookkasper/Library/Python/3.9/lib/python/site-packages (from cycler>=0.10->matplotlib) (1.16.0)\n",
      "Building wheels for collected packages: matplotlib, kiwisolver\n",
      "  Building wheel for matplotlib (setup.py) ... \u001b[?25ldone\n",
      "\u001b[?25h  Created wheel for matplotlib: filename=matplotlib-3.4.2-cp39-cp39-macosx_11_0_arm64.whl size=7082507 sha256=c496172c062c7497ec079806dcf4c7bbff0dac11cadbf4fed3fdb929308dd506\n",
      "  Stored in directory: /Users/macbookkasper/Library/Caches/pip/wheels/17/55/34/c31d64d660b8550b7f86b73b5a39ba479ba9134d868b0fdf3e\n",
      "  Building wheel for kiwisolver (setup.py) ... \u001b[?25ldone\n",
      "\u001b[?25h  Created wheel for kiwisolver: filename=kiwisolver-1.3.1-cp39-cp39-macosx_11_0_arm64.whl size=59282 sha256=7930fc8ba3b5779c80296c8d2b8af8956725f1ac11dd4dfd2a9d59f2c38b2391\n",
      "  Stored in directory: /Users/macbookkasper/Library/Caches/pip/wheels/7f/fb/e3/aef11e4a28b7663287dfba15372877f28abb4e902efbe1679b\n",
      "Successfully built matplotlib kiwisolver\n",
      "Installing collected packages: pillow, kiwisolver, cycler, matplotlib\n",
      "Successfully installed cycler-0.10.0 kiwisolver-1.3.1 matplotlib-3.4.2 pillow-8.2.0\n",
      "\u001b[33mWARNING: You are using pip version 21.1.1; however, version 21.1.2 is available.\n",
      "You should consider upgrading via the '/opt/homebrew/opt/python@3.9/bin/python3.9 -m pip install --upgrade pip' command.\u001b[0m\n"
     ]
    }
   ],
   "source": [
    "# Run this line if you don't have the 'matplotlib' package installed.\n",
    "!pip3 install matplotlib"
   ]
  },
  {
   "cell_type": "code",
   "execution_count": 1,
   "id": "39071a74",
   "metadata": {},
   "outputs": [
    {
     "ename": "ModuleNotFoundError",
     "evalue": "No module named 'matplotlib'",
     "output_type": "error",
     "traceback": [
      "\u001b[0;31m---------------------------------------------------------------------------\u001b[0m",
      "\u001b[0;31mModuleNotFoundError\u001b[0m                       Traceback (most recent call last)",
      "\u001b[0;32m<ipython-input-1-9cda4e657010>\u001b[0m in \u001b[0;36m<module>\u001b[0;34m\u001b[0m\n\u001b[1;32m      3\u001b[0m \u001b[0;34m\u001b[0m\u001b[0m\n\u001b[1;32m      4\u001b[0m \u001b[0;32mimport\u001b[0m \u001b[0mdatetime\u001b[0m\u001b[0;34m\u001b[0m\u001b[0;34m\u001b[0m\u001b[0m\n\u001b[0;32m----> 5\u001b[0;31m \u001b[0;32mimport\u001b[0m \u001b[0mmatplotlib\u001b[0m\u001b[0;34m.\u001b[0m\u001b[0mpyplot\u001b[0m \u001b[0;32mas\u001b[0m \u001b[0mplt\u001b[0m\u001b[0;34m\u001b[0m\u001b[0;34m\u001b[0m\u001b[0m\n\u001b[0m",
      "\u001b[0;31mModuleNotFoundError\u001b[0m: No module named 'matplotlib'"
     ]
    }
   ],
   "source": [
    "import requests\n",
    "import pandas as pd\n",
    "\n",
    "import datetime\n",
    "import matplotlib.pyplot as plt"
   ]
  },
  {
   "cell_type": "code",
   "execution_count": 13,
   "id": "0ebdada2",
   "metadata": {},
   "outputs": [],
   "source": [
    "# Fill in your API server ip.\n",
    "serverIp = \"192.168.0.28\""
   ]
  },
  {
   "cell_type": "code",
   "execution_count": 14,
   "id": "1cb96dc7",
   "metadata": {},
   "outputs": [],
   "source": [
    "# Fill in your API server port.\n",
    "serverPort = \"3030\""
   ]
  },
  {
   "cell_type": "code",
   "execution_count": 16,
   "id": "85c66377",
   "metadata": {},
   "outputs": [],
   "source": [
    "url = \"http://\"+serverIp+\":\"+serverPort+\"/api/v1/data\""
   ]
  },
  {
   "cell_type": "code",
   "execution_count": 116,
   "id": "5dacc76d",
   "metadata": {},
   "outputs": [],
   "source": [
    "r = requests.get(url)\n",
    "json = r.json()\n",
    "json"
   ]
  },
  {
   "cell_type": "code",
   "execution_count": 42,
   "id": "74adf09d",
   "metadata": {},
   "outputs": [],
   "source": [
    "# sensorData is a list of dicts.\n",
    "sensorData = json['data']"
   ]
  },
  {
   "cell_type": "code",
   "execution_count": 119,
   "id": "25f7a75c",
   "metadata": {
    "scrolled": true
   },
   "outputs": [],
   "source": [
    "df = pd.DataFrame(sensorData)\n",
    "\n",
    "# Show all columns\n",
    "# df\n",
    "\n",
    "# Show important columns\n",
    "# df[[\"hubId\", \"sensorId\", \"value\", \"extraId\", \"createdAt\"]]"
   ]
  },
  {
   "cell_type": "code",
   "execution_count": 108,
   "id": "9f023a52",
   "metadata": {},
   "outputs": [],
   "source": [
    "# Fill in which sensor and hub you want a dataframe of\n",
    "sensorId = \"pressureSensor0\"\n",
    "hubId = \"TEST_DEMO2\"\n",
    "extraId = \"\";"
   ]
  },
  {
   "cell_type": "code",
   "execution_count": 109,
   "id": "b11e09be",
   "metadata": {},
   "outputs": [],
   "source": [
    "sensor_df = df[(df[\"sensorId\"] == sensorId) & (df[\"hubId\"] == hubId) & (df[\"extraId\"] == extraId)]\n"
   ]
  },
  {
   "cell_type": "code",
   "execution_count": 120,
   "id": "43fd6ff7",
   "metadata": {},
   "outputs": [],
   "source": [
    "# Show all columns\n",
    "# sensor_df\n",
    "\n",
    "# Show important columns\n",
    "# sensor_df[[\"hubId\", \"sensorId\", \"value\", \"extraId\", \"createdAt\"]]"
   ]
  },
  {
   "cell_type": "code",
   "execution_count": null,
   "id": "3095f1ab",
   "metadata": {},
   "outputs": [],
   "source": [
    "import numpy as np\n",
    "import matplotlib.pyplot as plt\n",
    "import scipy.stats as stats\n",
    "mu = 0\n",
    "std = 1\n",
    "x = np.linspace(start=-4, stop=4, num=100)\n",
    "y = stats.norm.pdf(x, mu, std) \n",
    "plt.plot(x, y)\n",
    "plt.show()"
   ]
  },
  {
   "cell_type": "code",
   "execution_count": 112,
   "id": "5e8bbb05",
   "metadata": {},
   "outputs": [],
   "source": [
    "# End of file"
   ]
  }
 ],
 "metadata": {
  "kernelspec": {
   "display_name": "Python 3",
   "language": "python",
   "name": "python3"
  },
  "language_info": {
   "codemirror_mode": {
    "name": "ipython",
    "version": 3
   },
   "file_extension": ".py",
   "mimetype": "text/x-python",
   "name": "python",
   "nbconvert_exporter": "python",
   "pygments_lexer": "ipython3",
   "version": "3.9.5"
  }
 },
 "nbformat": 4,
 "nbformat_minor": 5
}
